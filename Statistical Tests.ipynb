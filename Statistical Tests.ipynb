{
 "cells": [
  {
   "cell_type": "code",
   "execution_count": 136,
   "metadata": {},
   "outputs": [],
   "source": [
    "# Normal Distribution Formula\n",
    "\n",
    "# Xnew = x - xmin/xmax - xmin\n",
    "\n",
    "# A standard normal distribution is a normal distribution with mean 0 and standard deviation 1\n",
    "\n",
    "# Xnew = x- mean/std\n",
    "\n",
    "# Null Hupothesis\n",
    "\n",
    "# Alternate Hypothesis\n",
    "\n",
    "# Degree of Freedom"
   ]
  },
  {
   "cell_type": "code",
   "execution_count": 34,
   "metadata": {},
   "outputs": [],
   "source": [
    "from scipy import stats\n",
    "from statsmodels.stats import weightstats as stests\n",
    "import numpy as np\n",
    "import pandas as pd"
   ]
  },
  {
   "cell_type": "code",
   "execution_count": 24,
   "metadata": {},
   "outputs": [],
   "source": [
    "# If we observe a large p values then we cannot reject the null hypothesis\n",
    "# If the p-value is smaller than the threshold, e.g. 1%, 5% or 10%, then we reject the null hypothesis "
   ]
  },
  {
   "cell_type": "markdown",
   "metadata": {},
   "source": [
    "### One Sample T Test"
   ]
  },
  {
   "cell_type": "code",
   "execution_count": 19,
   "metadata": {},
   "outputs": [
    {
     "name": "stdout",
     "output_type": "stream",
     "text": [
      "Ttest_1sampResult(statistic=array([-0.68014479, -0.04323899]), pvalue=array([0.49961383, 0.96568674]))\n",
      "Ttest_1sampResult(statistic=array([2.77025808, 4.11038784]), pvalue=array([0.00789095, 0.00014999]))\n"
     ]
    }
   ],
   "source": [
    "np.random.seed(7654567)  # fix seed to get the same result\n",
    "rvs = stats.norm.rvs(loc=5, scale=10, size=(50,2)) # Creating a normal distribution of mean 5 and std 10\n",
    "print(stats.ttest_1samp(rvs,5.0)) # Testing with the known population mean of 5\n",
    "print(stats.ttest_1samp(rvs,0.0)) # Testing with the known population mean of 0"
   ]
  },
  {
   "cell_type": "markdown",
   "metadata": {},
   "source": [
    "### Paird T Test "
   ]
  },
  {
   "cell_type": "code",
   "execution_count": 23,
   "metadata": {},
   "outputs": [
    {
     "name": "stdout",
     "output_type": "stream",
     "text": [
      "Ttest_relResult(statistic=0.24101764965300979, pvalue=0.8096404344581155)\n",
      "Ttest_relResult(statistic=-3.9995108708727924, pvalue=7.308240219166128e-05)\n"
     ]
    }
   ],
   "source": [
    "np.random.seed(12345678)\n",
    "rvs1 = stats.norm.rvs(loc=5,scale=10,size=500)\n",
    "rvs2 = (stats.norm.rvs(loc=5,scale=10,size=500) + stats.norm.rvs(scale=0.2,size=500))\n",
    "rvs3 = (stats.norm.rvs(loc=8,scale=10,size=500) + stats.norm.rvs(scale=0.2,size=500))\n",
    "print(stats.ttest_rel(rvs1,rvs2))\n",
    "print(stats.ttest_rel(rvs1,rvs3))\n",
    "\n",
    "# Examples for the use are scores of the same set of student in different exams"
   ]
  },
  {
   "cell_type": "markdown",
   "metadata": {},
   "source": [
    "### Independet T Test "
   ]
  },
  {
   "cell_type": "code",
   "execution_count": 31,
   "metadata": {},
   "outputs": [
    {
     "name": "stdout",
     "output_type": "stream",
     "text": [
      "Ttest_indResult(statistic=0.26833823296238857, pvalue=0.788494433695651)\n",
      "Ttest_indResult(statistic=0.26833823296238857, pvalue=0.7884945274950106)\n",
      "Ttest_indResult(statistic=-0.46580283298287956, pvalue=0.6414582741343561)\n",
      "Ttest_indResult(statistic=-3.386962586143801, pvalue=0.0007531032817270578)\n"
     ]
    }
   ],
   "source": [
    "np.random.seed(12345678)\n",
    "rvs1 = stats.norm.rvs(loc=5,scale=10,size=500) # Test with sample with identical means\n",
    "rvs2 = stats.norm.rvs(loc=5,scale=10,size=500) \n",
    "print(stats.ttest_ind(rvs1,rvs2))\n",
    "print(stats.ttest_ind(rvs1,rvs2, equal_var = False))\n",
    "\n",
    "rvs3 = stats.norm.rvs(loc=5, scale=20, size=500) # ttest_ind underestimates p for unequal variances\n",
    "print(stats.ttest_ind(rvs1, rvs3))\n",
    "\n",
    "rvs4 = stats.norm.rvs(loc=8, scale=20, size=100)\n",
    "print(stats.ttest_ind(rvs1, rvs4))"
   ]
  },
  {
   "cell_type": "code",
   "execution_count": null,
   "metadata": {},
   "outputs": [],
   "source": []
  },
  {
   "cell_type": "code",
   "execution_count": null,
   "metadata": {},
   "outputs": [],
   "source": []
  },
  {
   "cell_type": "markdown",
   "metadata": {},
   "source": [
    "### One Sample Z Test"
   ]
  },
  {
   "cell_type": "code",
   "execution_count": 63,
   "metadata": {},
   "outputs": [
    {
     "name": "stdout",
     "output_type": "stream",
     "text": [
      "0.02090163547951763\n",
      "reject null hypothesis\n"
     ]
    }
   ],
   "source": [
    "data ={'bp_after': [10,12,13,12,11,12,15,18,12,13],'bp_before' : [11,13,14,13,12,11,18,18,16,15]}\n",
    "\n",
    "datas = pd.DataFrame(data)\n",
    "ztest ,pval = stests.ztest(datas['bp_before'], x2=None, value=16)\n",
    "print(float(pval))\n",
    "\n",
    "if pval<0.05:\n",
    "    print(\"reject null hypothesis\")\n",
    "else:\n",
    "    print(\"accept null hypothesis\")"
   ]
  },
  {
   "cell_type": "markdown",
   "metadata": {},
   "source": [
    "### Two Sample Z Test "
   ]
  },
  {
   "cell_type": "code",
   "execution_count": 62,
   "metadata": {},
   "outputs": [
    {
     "name": "stdout",
     "output_type": "stream",
     "text": [
      "0.23206348890203465\n",
      "accept null hypothesis\n"
     ]
    }
   ],
   "source": [
    "ztest ,pval1 = stests.ztest(datas['bp_before'], x2=datas['bp_after'], value=0,alternative='two-sided')\n",
    "print(float(pval1))\n",
    "\n",
    "if pval<0.05:\n",
    "    print(\"reject null hypothesis\")\n",
    "else:\n",
    "    print(\"accept null hypothesis\")"
   ]
  },
  {
   "cell_type": "code",
   "execution_count": null,
   "metadata": {},
   "outputs": [],
   "source": [
    "# Paired-samples t tests compare scores on two different variables but for the same group of cases; \n",
    "''' The average score of subjects on the posttest is different than the average of those same\n",
    "subjects on the pretest '''\n",
    "'''Graduates had higher average salaries 10 years after graduation than they had 5 years after\n",
    "graduation.'''\n",
    "\n",
    "\n",
    "# independent-samples t tests compare scores on the same variable but for two different groups of cases\n",
    "'''Catholic women on an average have more children than Protestant women '''\n",
    "'''The mean years of schooling of Republicans are different than the mean years of schooling\n",
    "of Democrats'''"
   ]
  },
  {
   "cell_type": "code",
   "execution_count": null,
   "metadata": {},
   "outputs": [],
   "source": []
  },
  {
   "cell_type": "code",
   "execution_count": null,
   "metadata": {},
   "outputs": [],
   "source": []
  },
  {
   "cell_type": "markdown",
   "metadata": {},
   "source": [
    "### ANOVA (F-TEST) "
   ]
  },
  {
   "cell_type": "code",
   "execution_count": 65,
   "metadata": {},
   "outputs": [],
   "source": [
    "# F = Between group variability / Within group variability\n",
    "# One Way F-test(Anova) :- It tell whether two or more groups are similar or not based on their mean similarity and f-score"
   ]
  },
  {
   "cell_type": "code",
   "execution_count": 82,
   "metadata": {},
   "outputs": [
    {
     "name": "stdout",
     "output_type": "stream",
     "text": [
      "p-value for significance is:  0.8049243008499225\n"
     ]
    }
   ],
   "source": [
    "data = {'Weight': [4.71,5.35,5.18,6.11,4.5,5.17,5.33,4.41,3.59,5.87],'group':['ctrl','trt1','trt2','ctrl','ctrl','trt1','trt1','ctrl','trt2','trt2']}\n",
    "data = pd.DataFrame(data)\n",
    "df_anova = data[['Weight','group']]\n",
    "\n",
    "grps = pd.unique(df_anova.group.values)\n",
    "d_data = {grp:df_anova['Weight'][df_anova.group == grp] for grp in grps}\n",
    "\n",
    "F, p = stats.f_oneway(d_data['ctrl'], d_data['trt1'], d_data['trt2'])\n",
    "print(\"p-value for significance is: \", p)"
   ]
  },
  {
   "cell_type": "markdown",
   "metadata": {},
   "source": [
    "### Two Way ANOVA"
   ]
  },
  {
   "cell_type": "code",
   "execution_count": 102,
   "metadata": {},
   "outputs": [
    {
     "name": "stderr",
     "output_type": "stream",
     "text": [
      "C:\\Users\\kingm\\Anaconda3\\lib\\site-packages\\statsmodels\\compat\\pandas.py:56: FutureWarning: The pandas.core.datetools module is deprecated and will be removed in a future version. Please use the pandas.tseries module instead.\n",
      "  from pandas.core import datetools\n"
     ]
    }
   ],
   "source": [
    "from statsmodels.formula.api import ols\n",
    "import statsmodels.api as sm\n",
    "df_anova2 = pd.read_csv(\"https://raw.githubusercontent.com/Opensourcefordatascience/Data-sets/master/crop_yield.csv\")"
   ]
  },
  {
   "cell_type": "code",
   "execution_count": 103,
   "metadata": {},
   "outputs": [
    {
     "name": "stdout",
     "output_type": "stream",
     "text": [
      "Overall model F( 3, 16) =  4.112, p =  0.0243\n"
     ]
    },
    {
     "data": {
      "text/html": [
       "<div>\n",
       "<style scoped>\n",
       "    .dataframe tbody tr th:only-of-type {\n",
       "        vertical-align: middle;\n",
       "    }\n",
       "\n",
       "    .dataframe tbody tr th {\n",
       "        vertical-align: top;\n",
       "    }\n",
       "\n",
       "    .dataframe thead th {\n",
       "        text-align: right;\n",
       "    }\n",
       "</style>\n",
       "<table border=\"1\" class=\"dataframe\">\n",
       "  <thead>\n",
       "    <tr style=\"text-align: right;\">\n",
       "      <th></th>\n",
       "      <th>sum_sq</th>\n",
       "      <th>df</th>\n",
       "      <th>F</th>\n",
       "      <th>PR(&gt;F)</th>\n",
       "    </tr>\n",
       "  </thead>\n",
       "  <tbody>\n",
       "    <tr>\n",
       "      <th>C(Fert)</th>\n",
       "      <td>69.192</td>\n",
       "      <td>1.0</td>\n",
       "      <td>5.766000</td>\n",
       "      <td>0.028847</td>\n",
       "    </tr>\n",
       "    <tr>\n",
       "      <th>C(Water)</th>\n",
       "      <td>63.368</td>\n",
       "      <td>1.0</td>\n",
       "      <td>5.280667</td>\n",
       "      <td>0.035386</td>\n",
       "    </tr>\n",
       "    <tr>\n",
       "      <th>C(Fert):C(Water)</th>\n",
       "      <td>15.488</td>\n",
       "      <td>1.0</td>\n",
       "      <td>1.290667</td>\n",
       "      <td>0.272656</td>\n",
       "    </tr>\n",
       "    <tr>\n",
       "      <th>Residual</th>\n",
       "      <td>192.000</td>\n",
       "      <td>16.0</td>\n",
       "      <td>NaN</td>\n",
       "      <td>NaN</td>\n",
       "    </tr>\n",
       "  </tbody>\n",
       "</table>\n",
       "</div>"
      ],
      "text/plain": [
       "                   sum_sq    df         F    PR(>F)\n",
       "C(Fert)            69.192   1.0  5.766000  0.028847\n",
       "C(Water)           63.368   1.0  5.280667  0.035386\n",
       "C(Fert):C(Water)   15.488   1.0  1.290667  0.272656\n",
       "Residual          192.000  16.0       NaN       NaN"
      ]
     },
     "execution_count": 103,
     "metadata": {},
     "output_type": "execute_result"
    }
   ],
   "source": [
    "model = ols('Yield ~ C(Fert)*C(Water)',df_anova2).fit()\n",
    "print(f\"Overall model F({model.df_model: .0f},{model.df_resid: .0f}) = {model.fvalue: .3f}, p = {model.f_pvalue: .4f}\")\n",
    "res = sm.stats.anova_lm(model, typ= 2)\n",
    "res"
   ]
  },
  {
   "cell_type": "code",
   "execution_count": null,
   "metadata": {},
   "outputs": [],
   "source": []
  },
  {
   "cell_type": "code",
   "execution_count": null,
   "metadata": {},
   "outputs": [],
   "source": []
  },
  {
   "cell_type": "markdown",
   "metadata": {},
   "source": [
    "### Chi Square Test "
   ]
  },
  {
   "cell_type": "code",
   "execution_count": 128,
   "metadata": {},
   "outputs": [
    {
     "name": "stdout",
     "output_type": "stream",
     "text": [
      "Power_divergenceResult(statistic=2.0, pvalue=0.8491450360846096)\n",
      "Power_divergenceResult(statistic=1.3125, pvalue=0.933640196971634)\n"
     ]
    }
   ],
   "source": [
    "from scipy.stats import chisquare\n",
    "print(chisquare([16, 18, 16, 14, 12, 12])) # When just f_obs is given, it is assumed that the expected frequencies \n",
    "# are uniform and given by the mean of the observed frequencies.\n",
    "\n",
    "print(chisquare([16, 18, 16, 13, 14, 14], f_exp=[16, 16, 16, 16, 16, 16])) # With f_exp the expected frequencies can be given"
   ]
  },
  {
   "cell_type": "code",
   "execution_count": null,
   "metadata": {},
   "outputs": [],
   "source": []
  },
  {
   "cell_type": "code",
   "execution_count": 129,
   "metadata": {},
   "outputs": [],
   "source": [
    "# What is the statistical Score?"
   ]
  },
  {
   "cell_type": "code",
   "execution_count": 130,
   "metadata": {},
   "outputs": [],
   "source": [
    "# Critical values and p values"
   ]
  },
  {
   "cell_type": "code",
   "execution_count": 131,
   "metadata": {},
   "outputs": [],
   "source": [
    "# When the P value should be less than 5 percent and when it should be more than 5 percent?"
   ]
  },
  {
   "cell_type": "code",
   "execution_count": 140,
   "metadata": {},
   "outputs": [],
   "source": [
    "# Normalizing the data"
   ]
  },
  {
   "cell_type": "code",
   "execution_count": 149,
   "metadata": {},
   "outputs": [
    {
     "data": {
      "image/png": "[encoded data removed]",
      "text/plain": [
       "<matplotlib.figure.Figure at 0x1b523127e48>"
      ]
     },
     "metadata": {},
     "output_type": "display_data"
    }
   ],
   "source": [
    "# histogram plot of a small sample\n",
    "from numpy.random import seed\n",
    "from numpy.random import randn\n",
    "from matplotlib import pyplot\n",
    "# seed the random number generator\n",
    "seed(1)\n",
    "# generate a univariate data sample\n",
    "data = randn(50) + 100 *50\n",
    "\n",
    "# histogram\n",
    "pyplot.hist(data)\n",
    "pyplot.show()"
   ]
  },
  {
   "cell_type": "code",
   "execution_count": 145,
   "metadata": {},
   "outputs": [
    {
     "data": {
      "text/plain": [
       "array([181.21726818,  69.41217932,  73.59141239,  46.35156889,\n",
       "       143.27038147, -15.07693484, 187.24058821,  61.93965496,\n",
       "       115.9519548 ,  87.53148123, 173.10539685,  -3.00703547,\n",
       "        83.8791398 ,  80.79728227, 156.68847212,  45.00543663,\n",
       "        91.37858962,  56.1070791 , 102.11068734, 129.14076069,\n",
       "        44.96904114, 157.23618549, 145.07953603, 125.12471695,\n",
       "       145.04279746,  65.81360704,  93.85548872,  53.21152829,\n",
       "        86.60559602, 126.51777334,  65.41696241,  80.16232366,\n",
       "        65.64136499,  57.73971793,  66.43769346,  99.36677005,\n",
       "        44.13448257, 111.72078489, 182.99010886, 137.10220803,\n",
       "        90.40822238,  55.6185518 ,  62.64208531, 184.62273005,\n",
       "       102.54038774,  68.15021767, 109.54577423, 205.01275682,\n",
       "       106.00794762, 130.86015549])"
      ]
     },
     "execution_count": 145,
     "metadata": {},
     "output_type": "execute_result"
    }
   ],
   "source": [
    "data"
   ]
  },
  {
   "cell_type": "code",
   "execution_count": 144,
   "metadata": {},
   "outputs": [],
   "source": [
    "# Increasing the size of the sample from 50 to 100 can help to better expose the Gaussian shape of the data distribution"
   ]
  },
  {
   "cell_type": "code",
   "execution_count": 150,
   "metadata": {},
   "outputs": [
    {
     "data": {
      "image/png": "[encoded data removed]",
      "text/plain": [
       "<matplotlib.figure.Figure at 0x1b52314f550>"
      ]
     },
     "metadata": {},
     "output_type": "display_data"
    }
   ],
   "source": [
    "# histogram plot of a small sample\n",
    "from numpy.random import seed\n",
    "from numpy.random import randn\n",
    "from matplotlib import pyplot\n",
    "# seed the random number generator\n",
    "seed(1)\n",
    "# generate a univariate data sample\n",
    "data = randn(100) + 100 *50\n",
    "# histogram\n",
    "pyplot.hist(data)\n",
    "pyplot.show()"
   ]
  },
  {
   "cell_type": "code",
   "execution_count": 146,
   "metadata": {},
   "outputs": [
    {
     "data": {
      "text/plain": [
       "array([181.21726818,  69.41217932,  73.59141239,  46.35156889,\n",
       "       143.27038147, -15.07693484, 187.24058821,  61.93965496,\n",
       "       115.9519548 ,  87.53148123, 173.10539685,  -3.00703547,\n",
       "        83.8791398 ,  80.79728227, 156.68847212,  45.00543663,\n",
       "        91.37858962,  56.1070791 , 102.11068734, 129.14076069,\n",
       "        44.96904114, 157.23618549, 145.07953603, 125.12471695,\n",
       "       145.04279746,  65.81360704,  93.85548872,  53.21152829,\n",
       "        86.60559602, 126.51777334,  65.41696241,  80.16232366,\n",
       "        65.64136499,  57.73971793,  66.43769346,  99.36677005,\n",
       "        44.13448257, 111.72078489, 182.99010886, 137.10220803,\n",
       "        90.40822238,  55.6185518 ,  62.64208531, 184.62273005,\n",
       "       102.54038774,  68.15021767, 109.54577423, 205.01275682,\n",
       "       106.00794762, 130.86015549])"
      ]
     },
     "execution_count": 146,
     "metadata": {},
     "output_type": "execute_result"
    }
   ],
   "source": [
    "data"
   ]
  }
 ],
 "metadata": {
  "kernelspec": {
   "display_name": "Python 3",
   "language": "python",
   "name": "python3"
  },
  "language_info": {
   "codemirror_mode": {
    "name": "ipython",
    "version": 3
   },
   "file_extension": ".py",
   "mimetype": "text/x-python",
   "name": "python",
   "nbconvert_exporter": "python",
   "pygments_lexer": "ipython3",
   "version": "3.6.4"
  }
 },
 "nbformat": 4,
 "nbformat_minor": 2
}
